{
 "metadata": {
  "name": "",
  "signature": "sha256:5d3148fd5eeeef8f2c76bd9c38b15ba78449258d52b45564e140299547749f38"
 },
 "nbformat": 3,
 "nbformat_minor": 0,
 "worksheets": [
  {
   "cells": [
    {
     "cell_type": "code",
     "collapsed": false,
     "input": [
      "#run main.sh at the start to get the data from Charlie + do some preprocessing\n",
      "from glob import glob\n",
      "import os\n",
      "CORPUS_LOCATION = \"/Volumes/usb/\" \n",
      "contracts = glob(CORPUS_LOCATION + \"*_text*\") \n",
      "labeled_data = [l.replace(\"\\n\", \"\") for l in open(\"labels.csv\")]\n",
      "labeled_data = [(l.split(\",\")[0],l.split(\",\")[1])  for l in labeled_data]\n",
      "\n",
      "def get_contract_text(label):\n",
      "    contract_lines = [l.replace(\"\\\\n\", \"\") for l in open(CORPUS_LOCATION + label + \"_text.txt\")]\n",
      "    contract_lines = \" \".join(contract_lines)\n",
      "    return contract_lines\n",
      "\n",
      "def exists_in_corpus(label):\n",
      "    return os.path.exists(CORPUS_LOCATION + label + \"_text.txt\")\n",
      "\n",
      "    \n",
      "labeled_data = [l for l in labeled_data if exists_in_corpus(l[0])]\n",
      "labels = [l[1] for l in labeled_data]\n",
      "texts = [get_contract_text(l[0]) for l in labeled_data]\n",
      "contract_nos = [l[0] for l in labeled_data]"
     ],
     "language": "python",
     "metadata": {},
     "outputs": [],
     "prompt_number": 93
    },
    {
     "cell_type": "code",
     "collapsed": false,
     "input": [
      "from sklearn.cross_validation import cross_val_score, KFold\n",
      "from scipy.stats import sem\n",
      "\n",
      "def evaluate_cross_validation(clf, X, y, K):\n",
      "    # create a k-fold croos validation iterator of k=5 folds\n",
      "    cv = KFold(len(y), K, shuffle=True, random_state=0)\n",
      "    # by default the score used is the one returned by score method of the estimator (accuracy)\n",
      "    scores = cross_val_score(clf, X, y, cv=cv)\n",
      "    print scores\n",
      "    print (\"Mean score: {0:.3f} (+/-{1:.3f})\").format(\n",
      "        np.mean(scores), sem(scores))"
     ],
     "language": "python",
     "metadata": {},
     "outputs": [],
     "prompt_number": 46
    },
    {
     "cell_type": "code",
     "collapsed": false,
     "input": [
      "from sklearn.naive_bayes import MultinomialNB\n",
      "from sklearn.pipeline import Pipeline\n",
      "from sklearn.feature_extraction.text import TfidfVectorizer, HashingVectorizer, CountVectorizer\n",
      "\n",
      "clf_1 = Pipeline([\n",
      "    ('vect', CountVectorizer()),\n",
      "    ('clf', MultinomialNB()),\n",
      "])\n",
      "clf_2 = Pipeline([\n",
      "    ('vect', HashingVectorizer(non_negative=True)),\n",
      "    ('clf', MultinomialNB()),\n",
      "])\n",
      "clf_3 = Pipeline([\n",
      "    ('vect', TfidfVectorizer()),\n",
      "    ('clf', MultinomialNB()),\n",
      "])"
     ],
     "language": "python",
     "metadata": {},
     "outputs": [],
     "prompt_number": 77
    },
    {
     "cell_type": "code",
     "collapsed": false,
     "input": [
      "clfs = [clf_1, clf_2, clf_3]\n",
      "for clf in clfs:\n",
      "    evaluate_cross_validation(clf, texts, labels, 2)"
     ],
     "language": "python",
     "metadata": {},
     "outputs": [
      {
       "output_type": "stream",
       "stream": "stdout",
       "text": [
        "amendment\n"
       ]
      }
     ],
     "prompt_number": 80
    },
    {
     "cell_type": "code",
     "collapsed": false,
     "input": [],
     "language": "python",
     "metadata": {},
     "outputs": []
    }
   ],
   "metadata": {}
  }
 ]
}